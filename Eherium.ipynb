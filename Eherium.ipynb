{
 "cells": [
  {
   "cell_type": "markdown",
   "metadata": {},
   "source": [
    "# WHAT IS A BLOCKCHAIN?\n",
    "A blockchain is a public database that is updated and shared across many computers in a network. \n",
    "\n",
    "**\"Block\"** refers to the fact that data and state are stored in sequential batches or \"blocks\". If you send ETH to someone else, the transaction data needs to be added to a block for it to be successful.\n",
    "\n",
    "**\"Chain\"** refers to the fact that each block cryptographically references its parent. A block's data cannot be changed without changing all subsequent blocks, which would require the consensus of the entire network.\n",
    "\n",
    "Each new block and the chain as a whole must be agreed upon by every computer in the network. These computers are known as **\"nodes\"**. This is so everyone has the same data. To accomplish this distributed agreement, blockchains need a consensus mechanism.\n",
    "\n",
    "Ethereum currently uses a **proof-of-work consensus mechanism**. This means that anyone who wants to add new blocks to the chain must solve a difficult puzzle that requires a lot of computing power. Solving the puzzle **\"proves\"** that you have spent the computational resources. Doing this is known as mining. Mining is typically brute force trial and error but adding a block successfully is rewarded in ETH.\n",
    "\n",
    "New blocks are broadcasted to the nodes in the network, checked and verified, thus updating the state of the blockchain for everyone.\n",
    "\n",
    "So to summarise, when you send ETH to someone, the transaction must be mined and included in a new block. The updated state is then shared with the entire network. More on the details below.\n",
    "\n",
    "\n",
    "## Demo\n",
    "\n",
    "[Blockchain - ETH.BUILD](https://www.youtube.com/watch?v=zcX7OJ-L8XQ)\n",
    "\n",
    "\n",
    "[Hash](https://andersbrownworth.com/blockchain/hash)\n",
    "\n",
    "[Block](https://andersbrownworth.com/blockchain/block)\n",
    "\n",
    "[Block Chain](https://andersbrownworth.com/blockchain/blockchain)\n",
    "\n",
    "[Distributed](https://andersbrownworth.com/blockchain/distributed)\n",
    "\n",
    "[Tokens](https://andersbrownworth.com/blockchain/tokens)\n",
    "\n",
    "[CoinBase](https://andersbrownworth.com/blockchain/coinbase)"
   ]
  },
  {
   "cell_type": "code",
   "execution_count": null,
   "metadata": {},
   "outputs": [],
   "source": []
  }
 ],
 "metadata": {
  "kernelspec": {
   "display_name": "pyspark _ python",
   "language": "python",
   "name": "python3"
  },
  "language_info": {
   "codemirror_mode": {
    "name": "ipython",
    "version": 3
   },
   "file_extension": ".py",
   "mimetype": "text/x-python",
   "name": "python",
   "nbconvert_exporter": "python",
   "pygments_lexer": "ipython3",
   "version": "3.7.7"
  },
  "toc": {
   "base_numbering": 1,
   "nav_menu": {},
   "number_sections": true,
   "sideBar": true,
   "skip_h1_title": false,
   "title_cell": "Table of Contents",
   "title_sidebar": "Contents",
   "toc_cell": false,
   "toc_position": {},
   "toc_section_display": true,
   "toc_window_display": false
  }
 },
 "nbformat": 4,
 "nbformat_minor": 4
}
